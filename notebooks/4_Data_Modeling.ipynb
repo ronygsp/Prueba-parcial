{
 "cells": [
  {
   "cell_type": "markdown",
   "metadata": {},
   "source": [
    "## Objetivo"
   ]
  },
  {
   "cell_type": "markdown",
   "metadata": {},
   "source": [
    "Diseñar un modelo de datos que facilite el almacenamiento y la consulta de la información analítica, de manera que se pueda predecir la facturación total de cada usuario en un periodo dado.\n",
    "Se explicará cómo se construye un modelo en estrella (Star Schema) y cómo se relacionan las tablas de dimensiones (Usuarios, Planes, Tiempo) con la tabla de hechos."
   ]
  },
  {
   "cell_type": "markdown",
   "metadata": {},
   "source": [
    "## Schema"
   ]
  },
  {
   "cell_type": "markdown",
   "metadata": {},
   "source": [
    "- Tiene una tabla central de hechos y varias tablas de dimensiones.\n",
    "- Es más simple y eficiente para consultas analíticas, pues minimiza la cantidad de joins.\n",
    "- La tabla de hechos va a tener la variable objetivo facturación_total y otros indicadores agregados de consumo, y se relacionará con Dim_Usuarios y Dim_Planes"
   ]
  },
  {
   "cell_type": "markdown",
   "metadata": {},
   "source": [
    "Tabla de hechos (Fact_Facturacion):\n",
    "- user_id: Identificador del usuario.\n",
    "- plan: Identificador o nombre del plan (como llave foránea a Dim_Planes).\n",
    "- periodo: Periodo de facturación (por ejemplo, extraído de reg_date o definido a partir de la fecha de consumo).\n",
    "- facturacion: Monto total que paga el usuario (costo base + costos extra)."
   ]
  },
  {
   "cell_type": "markdown",
   "metadata": {},
   "source": [
    "Dimension de Usuarios (Dim_Usuarios):\n",
    "- user_id: Llave primaria.\n",
    "- first_name, last_name, age, city, reg_date, churn_date, etc."
   ]
  },
  {
   "cell_type": "markdown",
   "metadata": {},
   "source": [
    "Dimension Planes Dim_Planees:\n",
    "- plan o plan_name: Llave primaria.\n",
    "- usd_monthly_pay, minutes_included, messages_included, mb_per_month_included, usd_per_minute, usd_per_message, usd_per_gb, etc."
   ]
  },
  {
   "cell_type": "markdown",
   "metadata": {},
   "source": [
    "Dimension Tiempo (Dim_Tiempo):\n",
    "- periodo: Por ejemplo, mes y año.\n",
    "- Otros atributos temporales (trimestre, día, etc.), si son relevantes para el análisis.\n"
   ]
  },
  {
   "cell_type": "markdown",
   "metadata": {},
   "source": [
    "## Implementacion"
   ]
  },
  {
   "cell_type": "code",
   "execution_count": 40,
   "metadata": {},
   "outputs": [],
   "source": [
    "import pandas as pd"
   ]
  },
  {
   "cell_type": "code",
   "execution_count": 41,
   "metadata": {},
   "outputs": [],
   "source": [
    "df = pd.read_csv('../data/ml/df_features.csv')"
   ]
  },
  {
   "cell_type": "code",
   "execution_count": null,
   "metadata": {},
   "outputs": [],
   "source": [
    "#Periodo (mes de reg_date, o podrías usar otra fecha de consumo)\n",
    "df['periodo'] = pd.to_datetime(df['reg_date']).dt.to_period('M')\n",
    "\n",
    "# Seleccionar las columnas relevantes para la tabla de hechos\n",
    "fact_table = df[['user_id', 'plan', 'periodo', 'facturacion', 'total_minutes', 'total_messages', 'total_mb']]"
   ]
  },
  {
   "cell_type": "code",
   "execution_count": 43,
   "metadata": {},
   "outputs": [],
   "source": [
    "# Guardar la tabla de hechos\n",
    "fact_table.to_csv('../data/ml/Fact_Facturacion.csv', index=False)"
   ]
  },
  {
   "cell_type": "code",
   "execution_count": null,
   "metadata": {},
   "outputs": [],
   "source": [
    "# Dim_Usuarios\n",
    "dim_usuarios = df[['user_id', 'first_name', 'last_name', 'age', 'city', 'reg_date', 'churn_date']].drop_duplicates()\n",
    "dim_usuarios.to_csv('../data/ml/Dim_Usuarios.csv', index=False)"
   ]
  },
  {
   "cell_type": "code",
   "execution_count": null,
   "metadata": {},
   "outputs": [],
   "source": [
    "#Dim_Planes\n",
    "# Seleccionar columnas únicas de planes\n",
    "dim_planes = df[['plan', 'usd_monthly_pay', 'minutes_included', 'messages_included',\n",
    "                 'mb_per_month_included', 'usd_per_minute', 'usd_per_message', 'usd_per_gb']].drop_duplicates()\n",
    "dim_planes.to_csv('../data/ml/Dim_Planes.csv', index=False)"
   ]
  },
  {
   "cell_type": "code",
   "execution_count": null,
   "metadata": {},
   "outputs": [],
   "source": [
    "#Dim_Tiempo\n",
    "dim_tiempo = pd.DataFrame(df['periodo'].unique(), columns=['periodo'])\n",
    "dim_tiempo['mes'] = dim_tiempo['periodo'].astype(str).str.split('-').str[1]\n",
    "dim_tiempo['año'] = dim_tiempo['periodo'].astype(str).str.split('-').str[0]\n",
    "dim_tiempo.to_csv('../data/ml/Dim_Tiempo.csv', index=False)"
   ]
  },
  {
   "cell_type": "code",
   "execution_count": 47,
   "metadata": {},
   "outputs": [
    {
     "name": "stdout",
     "output_type": "stream",
     "text": [
      "Modelo de Datos (Star Schema) generado y guardado en la carpeta 'data/ml'.\n"
     ]
    }
   ],
   "source": [
    "print(\"Modelo de Datos (Star Schema) generado y guardado en la carpeta 'data/ml'.\")"
   ]
  }
 ],
 "metadata": {
  "kernelspec": {
   "display_name": "Python 3",
   "language": "python",
   "name": "python3"
  },
  "language_info": {
   "codemirror_mode": {
    "name": "ipython",
    "version": 3
   },
   "file_extension": ".py",
   "mimetype": "text/x-python",
   "name": "python",
   "nbconvert_exporter": "python",
   "pygments_lexer": "ipython3",
   "version": "3.12.2"
  }
 },
 "nbformat": 4,
 "nbformat_minor": 2
}
